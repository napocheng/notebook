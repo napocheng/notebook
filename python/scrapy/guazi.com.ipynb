{
 "cells": [
  {
   "cell_type": "markdown",
   "metadata": {},
   "source": [
    "20160916  \n",
    "python爬虫的最佳实践(三)  \n",
    "[真实的网络解析demo - 简书](http://www.jianshu.com/p/15eb2a39ffe0)"
   ]
  },
  {
   "cell_type": "code",
   "execution_count": 21,
   "metadata": {
    "collapsed": false
   },
   "outputs": [],
   "source": [
    "# coding:utf-8\n",
    "import requests\n",
    "from bs4 import BeautifulSoup as bs\n",
    "\n",
    "baseurl = \"http://www.guazi.com/xm/dazhong/o{}/\""
   ]
  },
  {
   "cell_type": "code",
   "execution_count": 31,
   "metadata": {
    "collapsed": false
   },
   "outputs": [],
   "source": [
    "def guazi(url):\n",
    "    print(\"start guazi scrapy:\", url)\n",
    "    res = requests.get(url)\n",
    "    soup = bs(res.text, \"lxml\")\n",
    "    print(soup.text)"
   ]
  },
  {
   "cell_type": "code",
   "execution_count": 23,
   "metadata": {
    "collapsed": false
   },
   "outputs": [],
   "source": [
    "def start():\n",
    "    urls = [baseurl.format(str(i)) for i in range(1,2,1)]\n",
    "    for url in urls:\n",
    "        guazi(url)"
   ]
  },
  {
   "cell_type": "code",
   "execution_count": 32,
   "metadata": {
    "collapsed": false
   },
   "outputs": [
    {
     "name": "stdout",
     "output_type": "stream",
     "text": [
      "start guazi scrapy: http://www.guazi.com/xm/dazhong/o1/\n",
      "\n",
      "\n",
      "\n",
      "\n",
      "                    eval(function(p,a,c,k,e,r){e=function(c){return(c<62?'':e(parseInt(c/62)))+((c=c%62)>35?String.fromCharCode(c+29):c.toString(36))};if('0'.replace(0,e)==0){while(c--)r[e(c)]=k[c];k=[function(e){return r[e]||e}];e=function(){return'([efhj-pru-wzA-Y]|1\\\\w)'};c=1};while(c--)if(k[c])p=p.replace(new RegExp('\\\\b'+e(c)+'\\\\b','g'),k[c]);return p}('f r(x,y){e L=(x&M)+(y&M);e 1d=(x>>16)+(y>>16)+(L>>16);h(1d<<16)|(L&M)}f 1e(N,O){h(N<<O)|(N>>>(32-O))}f A(q,a,b,x,s,t){h r(1e(r(r(a,q),r(x,t)),s),b)}f j(a,b,c,d,x,s,t){h A((b&c)|((~b)&d),a,b,x,s,t)}f k(a,b,c,d,x,s,t){h A((b&d)|(c&(~d)),a,b,x,s,t)}f l(a,b,c,d,x,s,t){h A(b^c^d,a,b,x,s,t)}f m(a,b,c,d,x,s,t){h A(c^(b|(~d)),a,b,x,s,t)}f B(x,v){x[v>>5]|=0x80<<(v%32);x[(((v+64)>>>9)<<4)+14]=v;e i;e P;e Q;e R;e S;e a=1732584193;e b=-271733879;e c=-1732584194;e d=271733878;u(i=0;i<x.n;i+=16){P=a;Q=b;R=c;S=d;a=j(a,b,c,d,x[i],7,-680876936);d=j(d,a,b,c,x[i+1],12,-389564586);c=j(c,d,a,b,x[i+2],17,606105819);b=j(b,c,d,a,x[i+3],22,-1044525330);a=j(a,b,c,d,x[i+4],7,-176418897);d=j(d,a,b,c,x[i+5],12,1200080426);c=j(c,d,a,b,x[i+6],17,-1473231341);b=j(b,c,d,a,x[i+7],22,-45705983);a=j(a,b,c,d,x[i+8],7,1770035416);d=j(d,a,b,c,x[i+9],12,-1958414417);c=j(c,d,a,b,x[i+10],17,-42063);b=j(b,c,d,a,x[i+11],22,-1990404162);a=j(a,b,c,d,x[i+12],7,1804603682);d=j(d,a,b,c,x[i+13],12,-40341101);c=j(c,d,a,b,x[i+14],17,-1502002290);b=j(b,c,d,a,x[i+15],22,1236535329);a=k(a,b,c,d,x[i+1],5,-165796510);d=k(d,a,b,c,x[i+6],9,-1069501632);c=k(c,d,a,b,x[i+11],14,643717713);b=k(b,c,d,a,x[i],20,-373897302);a=k(a,b,c,d,x[i+5],5,-701558691);d=k(d,a,b,c,x[i+10],9,38016083);c=k(c,d,a,b,x[i+15],14,-660478335);b=k(b,c,d,a,x[i+4],20,-405537848);a=k(a,b,c,d,x[i+9],5,568446438);d=k(d,a,b,c,x[i+14],9,-1019803690);c=k(c,d,a,b,x[i+3],14,-187363961);b=k(b,c,d,a,x[i+8],20,1163531501);a=k(a,b,c,d,x[i+13],5,-1444681467);d=k(d,a,b,c,x[i+2],9,-51403784);c=k(c,d,a,b,x[i+7],14,1735328473);b=k(b,c,d,a,x[i+12],20,-1926607734);a=l(a,b,c,d,x[i+5],4,-378558);d=l(d,a,b,c,x[i+8],11,-2022574463);c=l(c,d,a,b,x[i+11],16,1839030562);b=l(b,c,d,a,x[i+14],23,-35309556);a=l(a,b,c,d,x[i+1],4,-1530992060);d=l(d,a,b,c,x[i+4],11,1272893353);c=l(c,d,a,b,x[i+7],16,-155497632);b=l(b,c,d,a,x[i+10],23,-1094730640);a=l(a,b,c,d,x[i+13],4,681279174);d=l(d,a,b,c,x[i],11,-358537222);c=l(c,d,a,b,x[i+3],16,-722521979);b=l(b,c,d,a,x[i+6],23,76029189);a=l(a,b,c,d,x[i+9],4,-640364487);d=l(d,a,b,c,x[i+12],11,-421815835);c=l(c,d,a,b,x[i+15],16,530742520);b=l(b,c,d,a,x[i+2],23,-995338651);a=m(a,b,c,d,x[i],6,-198630844);d=m(d,a,b,c,x[i+7],10,1126891415);c=m(c,d,a,b,x[i+14],15,-1416354905);b=m(b,c,d,a,x[i+5],21,-57434055);a=m(a,b,c,d,x[i+12],6,1700485571);d=m(d,a,b,c,x[i+3],10,-1894986606);c=m(c,d,a,b,x[i+10],15,-1051523);b=m(b,c,d,a,x[i+1],21,-2054922799);a=m(a,b,c,d,x[i+8],6,1873313359);d=m(d,a,b,c,x[i+15],10,-30611744);c=m(c,d,a,b,x[i+6],15,-1560198380);b=m(b,c,d,a,x[i+13],21,1309151649);a=m(a,b,c,d,x[i+4],6,-145523070);d=m(d,a,b,c,x[i+11],10,-1120210379);c=m(c,d,a,b,x[i+2],15,718787259);b=m(b,c,d,a,x[i+9],21,-343485551);a=r(a,P);b=r(b,Q);c=r(c,R);d=r(d,S)}h[a,b,c,d]}f T(o){e i;e p=\\'\\';e 1f=o.n*32;u(i=0;i<1f;i+=8){p+=String.fromCharCode((o[i>>5]>>>(i%32))&1g)}h p}f F(o){e i;e p=[];p[(o.n>>2)-1]=1h;u(i=0;i<p.n;i+=1){p[i]=0}e 1i=o.n*8;u(i=0;i<1i;i+=8){p[i>>5]|=(o.1j(i/8)&1g)<<(i%32)}h p}f 1k(s){h T(B(F(s),s.n*8))}f rstrHMAC(G,U){e i;e w=F(G);e H=[];e I=[];e V;H[15]=I[15]=1h;C(w.n>16){w=B(w,G.n*8)}u(i=0;i<16;i+=1){H[i]=w[i]^0x36363636;I[i]=w[i]^0x5C5C5C5C}V=B(H.1l(F(U)),1m+U.n*8);h T(B(I.1l(V),1m+128))}f 1n(o){e W=\\'0123456789abcdef\\';e p=\\'\\';e x;e i;u(i=0;i<o.n;i+=1){x=o.1j(i);p+=W.X((x>>>4)&1o)+W.X(x&1o)}h p}f 1p(o){h unescape(encodeURIComponent(o))}f 1q(s){h 1k(1p(s))}f 1r(s){h 1n(1q(s))}f 1s(){e Y=\"\";e 18=\"ABCDEFGHIJKLMNOPQRSTUVWXYZabcdefghijklmnopqrstuvwxyz\";e v=J.1t(J.1u()*2);u(e i=0;i<v;i++){Y+=18.X(J.1t(J.1u()*18.n))}h Y}f 1v(s){s=s.1w(/[a-zA-Z]/g,\\'#\\');e D=s.split(\\'\\');u(e i=0;i<D.n;i++){C(D[i]==\\'#\\'){D[i]=1s()}}h D.join(\\'\\')}f anti(1x,G){e 1y=1r(1x);h 1v(1y)}f xredirect(19,1z){e K=new Date();K.setTime(K.getTime()+2592000000);e 1a=\"; 1a=\"+K.toUTCString();1A.1b=19+\"=\"+1z+1a+\"; path=/\";C(1A.1b.1B(19)===-1&&navigator.cookieEnabled){alert(\\'è¯·ä¿®æ¹æµè§å¨è®¾ç½®,å",
      "è®¸1bç¼å­\\')}else{e z=E.1C;C(E.1D!=\\'1E:\\'){z=\\'1E:\\'+1F.E.1C.1G(1F.E.1D.n)}e 1c=z.1B(\\'#\\');C(1c!==-1){z=z.1G(0,1c)}E.1w(z)}}',[],105,'||||||||||||||var|function||return||ff|gg|hh|ii|length|input|output||safeAdd|||for|len|bkey|||url|cmn|binl|if|arr|location|rstr2binl|key|ipad|opad|Math|date|lsw|0xFFFF|num|cnt|olda|oldb|oldc|oldd|binl2rstr|data|hash|hexTab|charAt|text||||||||||possible|name|expires|cookie|ulen|msw|bitRotateLeft|length32|0xFF|undefined|length8|charCodeAt|rstr|concat|512|rstr2hex|0x0F|str2rstrUTF8|raw|hex|uid|floor|random|charRun|replace|string|estring|value|document|indexOf|href|protocol|https|window|substring'.split('|'),0,{}));var value=anti('JABQPg+dBn9gyU11hj0ydQKw1LwBUn/z7p0z3Ry587Q=','83225598165817371413');var name='antipas';xredirect(name,value);\n",
      "                \n",
      "\n",
      "\n",
      "æ­£å¨æå¼ä¸­,è¯·ç¨å...\n",
      "\n",
      "\n",
      "\n"
     ]
    }
   ],
   "source": [
    "if __name__ == '__main__':\n",
    "    start()"
   ]
  }
 ],
 "metadata": {
  "anaconda-cloud": {},
  "kernelspec": {
   "display_name": "Python [conda root]",
   "language": "python",
   "name": "conda-root-py"
  },
  "language_info": {
   "codemirror_mode": {
    "name": "ipython",
    "version": 3
   },
   "file_extension": ".py",
   "mimetype": "text/x-python",
   "name": "python",
   "nbconvert_exporter": "python",
   "pygments_lexer": "ipython3",
   "version": "3.5.2"
  }
 },
 "nbformat": 4,
 "nbformat_minor": 0
}
