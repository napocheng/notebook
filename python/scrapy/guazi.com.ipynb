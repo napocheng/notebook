{
 "cells": [
  {
   "cell_type": "markdown",
   "metadata": {},
   "source": [
    "20160916  \n",
    "python爬虫的最佳实践(三)  \n",
    "[真实的网络解析demo - 简书](http://www.jianshu.com/p/15eb2a39ffe0)\n",
    "对此做了调整：\n",
    "  headers增加了User-Agent"
   ]
  },
  {
   "cell_type": "code",
   "execution_count": 5,
   "metadata": {
    "collapsed": true,
    "scrolled": true
   },
   "outputs": [],
   "source": [
    "# coding:utf-8\n",
    "import requests\n",
    "from bs4 import BeautifulSoup as bs\n",
    "\n",
    "# InsecureRequestWarning: Unverified HTTPS request is being made. \n",
    "# Adding certificate verification is strongly advised. \n",
    "# See: https://urllib3.readthedocs.io/en/latest/advanced-usage.html#ssl-warnings InsecureRequestWarning)\n",
    "requests.packages.urllib3.disable_warnings()\n",
    "\n",
    "baseurl = \"http://www.guazi.com/xm/dazhong/o{}/\""
   ]
  },
  {
   "cell_type": "code",
   "execution_count": 6,
   "metadata": {
    "collapsed": true
   },
   "outputs": [],
   "source": [
    "def guazi(url):\n",
    "    print(\"start guazi scrapy:\", url)\n",
    "    head = {}\n",
    "    #写入User Agent信息，不然获取不到瓜子网的内容\n",
    "    head['User-Agent'] = 'Mozilla/5.0 (Windows NT 6.1; Win64; x64) AppleWebKit/537.36 (KHTML, like Gecko) Chrome/61.0.3163.100 Safari/537.36'\n",
    "\n",
    "    res = requests.get(url,verify=False,headers=head)\n",
    "    soup = bs(res.text, 'lxml')\n",
    "    for entry in soup.select('.car-a'):\n",
    "        print(entry.select('.t')[0].text, entry.select('.t-price p')[0].text)"
   ]
  },
  {
   "cell_type": "code",
   "execution_count": 7,
   "metadata": {
    "collapsed": true
   },
   "outputs": [],
   "source": [
    "def start():\n",
    "    urls = [baseurl.format(str(i)) for i in range(1,3,1)]\n",
    "    for url in urls:\n",
    "        guazi(url)"
   ]
  },
  {
   "cell_type": "code",
   "execution_count": 8,
   "metadata": {},
   "outputs": [
    {
     "name": "stdout",
     "output_type": "stream",
     "text": [
      "start guazi scrapy: http://www.guazi.com/xm/dazhong/o1/\n",
      "大众CC 2012款 2.0TSI 至尊型 15.80万\n",
      "大众迈腾 2013款 1.8TSI 尊贵型 13.25万\n",
      "大众速腾 2015款 1.6L 自动舒适型 11.40万\n",
      "大众CC 2013款 1.8TSI 豪华型 17.99万\n",
      "大众速腾 2014款 改款 1.4TSI 自动豪华型 11.10万\n",
      "大众途观 2016款 2.0TSI 四驱标准型(进口) 25.00万\n",
      "大众迈腾 2015款 改款 1.8TSI 豪华型 17.20万\n",
      "大众途观 2015款 1.8TSI 自动两驱风尚版 15.50万\n",
      "大众途锐 2011款 3.0TSI 豪华型(进口) 37.50万\n",
      "大众高尔夫 2012款 1.4TSI 手动舒适型 7.38万\n",
      "大众朗逸 2013款 1.4TSI 手动舒适版 6.80万\n",
      "大众迈腾 2012款 2.0TSI 至尊型 13.50万\n",
      "大众尚酷 2011款 2.0TSI 豪华版(进口) 14.90万\n",
      "大众速腾 2012款 1.6L 自动舒适型 8.70万\n",
      "大众帕萨特 2015款 1.8TSI DSG御尊版 17.30万\n",
      "大众高尔夫 2014款 1.4TSI 自动豪华型 11.40万\n",
      "大众速腾 2015款 230TSI 自动豪华型 13.88万\n",
      "大众夏朗 2012款 2.0TSI 标配型 欧IV(进口) 16.50万\n",
      "大众途观 2010款 2.0TSI 自动四驱旗舰导航版 15.00万\n",
      "大众速腾 2017款 230TSI 自动舒适型 13.50万\n",
      "大众POLO 2013款 1.6L 自动舒适版 6.60万\n",
      "大众CC 2011款 2.0TSI 豪华型 12.95万\n",
      "大众速腾 2014款 1.4TSI 自动豪华型 11.60万\n",
      "大众POLO 2016款 1.4L 自动风尚型 7.80万\n",
      "大众宝来 2016款 1.6L 自动舒适型 9.50万\n",
      "大众途观 2012款 2.0TSI 舒适版(进口) 20.00万\n",
      "大众朗逸 2013款 改款 1.4TSI DSG舒适版 8.80万\n",
      "大众迈腾 2012款 改款 1.8TSI 尊贵型 13.80万\n",
      "大众途安 2013款 1.4T 手动风尚版5座 7.50万\n",
      "大众高尔夫 2011款 1.4TSI 舒适旅行版(进口) 10.28万\n",
      "大众POLO 2009款 劲取 1.6L 自动雅致版 3.68万\n",
      "大众高尔夫 2012款 1.6 自动舒适型 8.00万\n",
      "大众宝来 2016款 230TSI DSG豪华型 11.80万\n",
      "大众桑塔纳 2013款 1.6L 自动风尚版 6.48万\n",
      "大众朗逸 2015款 230TSI DSG舒适版 11.18万\n",
      "大众朗逸 2013款 1.6L 手动风尚版 8.10万\n",
      "大众夏朗 2012款 2.0TSI 豪华型 欧IV(进口) 20.70万\n",
      "大众POLO 2011款 1.4L 自动致酷版 5.20万\n",
      "大众速腾 2011款 1.4TSI 自动豪华型 7.15万\n",
      "大众途安 2011款 1.4T 自动智雅版5座 7.90万\n",
      "start guazi scrapy: http://www.guazi.com/xm/dazhong/o2/\n",
      "大众捷达 2010款 1.6L 伙伴 2.60万\n",
      "大众宝来 2012款 1.6L 自动时尚型 6.50万\n",
      "大众速腾 2015款 230TSI 自动舒适型 13.00万\n",
      "大众高尔夫 2016款 1.6L 自动舒适型 11.50万\n",
      "大众朗逸 2015款 1.6L 手动舒适版 9.10万\n",
      "大众POLO 2009款 劲情 1.4L 手动舒尚版 3.15万\n",
      "大众高尔夫 2012款 1.6 自动时尚型 7.40万\n",
      "大众朗逸 2013款 1.4TSI 手动舒适版 6.40万\n",
      "大众朗逸 2008款 1.6L 手动品雅版 4.60万\n",
      "大众迈腾 2013款 1.8TSI 领先型 15.50万\n",
      "大众朗逸 2013款 1.6L 自动风尚版 7.90万\n",
      "大众途观 2010款 1.8TSI 自动两驱菁英版 15.18万\n",
      "大众迈腾 2011款 1.4TSI 精英型 8.00万\n",
      "大众途安 2011款 1.4T 手动智雅版5座 6.88万\n",
      "大众宝来 2013款 1.6L 手动时尚型 6.40万\n",
      "大众高尔夫 2012款 2.0TSI GTI 13.00万\n",
      "大众高尔夫 2012款 1.4TSI 自动舒适型 9.88万\n",
      "大众捷达 2013款 1.6L 自动舒适型 7.30万\n",
      "大众途安 2011款 1.4T 自动智雅版5座 9.30万\n",
      "大众宝来 2014款 1.4TSI 自动舒适型 8.30万\n",
      "大众桑塔纳 2015款 1.6L 自动风尚版 6.68万\n",
      "大众桑塔纳 2015款 1.6L 自动舒适版 7.68万\n",
      "大众高尔夫 2012款 1.4TSI 自动舒适型 9.50万\n",
      "大众捷达 2013款 1.6L 自动舒适型 7.30万\n",
      "大众朗逸 2008款 1.6L 自动品雅版 4.80万\n",
      "大众迈腾 2012款 旅行版 2.0TSI 舒适型(进口) 21.88万\n",
      "大众途安 2011款 1.4T 自动智雅版5座 8.80万\n",
      "大众途观 2010款 2.0TSI 自动四驱旗舰导航版 13.99万\n",
      "大众捷达 2013款 1.6L 手动时尚型 5.26万\n",
      "大众桑塔纳 2013款 1.6L 自动风尚版 6.16万\n",
      "大众速腾 2006款 1.6L自动时尚型 3.80万\n",
      "大众捷达 2013款 1.6L 手动舒适型 5.98万\n",
      "大众朗逸 2013款 1.6L 手动舒适版 8.00万\n",
      "大众途安 2013款 1.4T 自动舒适版5座 9.80万\n",
      "大众POLO 2011款 1.6L 自动致尚版 5.68万\n",
      "大众捷达 2015款 1.6L 自动时尚型 7.30万\n",
      "大众朗逸 2013款 经典 1.6L 手动风尚版 7.28万\n",
      "大众桑塔纳 2016款 1.6L 自动风尚版 7.10万\n",
      "大众高尔夫 2011款 1.4TSI Cross Golf(进口) 11.00万\n",
      "大众速腾 2011款 1.6L 手动舒适型 5.50万\n"
     ]
    }
   ],
   "source": [
    "if __name__ == '__main__':\n",
    "    start()"
   ]
  }
 ],
 "metadata": {
  "anaconda-cloud": {},
  "kernelspec": {
   "display_name": "Python [conda root]",
   "language": "python",
   "name": "conda-root-py"
  },
  "language_info": {
   "codemirror_mode": {
    "name": "ipython",
    "version": 3
   },
   "file_extension": ".py",
   "mimetype": "text/x-python",
   "name": "python",
   "nbconvert_exporter": "python",
   "pygments_lexer": "ipython3",
   "version": "3.5.2"
  }
 },
 "nbformat": 4,
 "nbformat_minor": 1
}
